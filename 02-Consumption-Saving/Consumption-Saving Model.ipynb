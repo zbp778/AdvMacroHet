{
 "cells": [
  {
   "cell_type": "markdown",
   "metadata": {},
   "source": [
    "# Calibration of the standard consumption-saving model"
   ]
  },
  {
   "cell_type": "markdown",
   "metadata": {},
   "source": [
    "**Table of contents**<a id='toc0_'></a>    \n",
    "- 1. [Setup](#toc1_)    \n",
    "- 2. [Calibration of aggregate wealth](#toc2_)    \n",
    "- 3. [Het-$\\beta$ model](#toc3_)    \n",
    "\n",
    "<!-- vscode-jupyter-toc-config\n",
    "\tnumbering=true\n",
    "\tanchor=true\n",
    "\tflat=false\n",
    "\tminLevel=2\n",
    "\tmaxLevel=6\n",
    "\t/vscode-jupyter-toc-config -->\n",
    "<!-- THIS CELL WILL BE REPLACED ON TOC UPDATE. DO NOT WRITE YOUR TEXT IN THIS CELL -->"
   ]
  },
  {
   "cell_type": "markdown",
   "metadata": {},
   "source": [
    "**Content:** Solves and simulates a simple consumption-saving model.\n",
    "\n",
    "**Calibration:** Low and high liquid wealth calibrations.\n",
    "\n",
    "**Model extension:** Discount factor heterogeneity"
   ]
  },
  {
   "cell_type": "code",
   "execution_count": 95,
   "metadata": {},
   "outputs": [
    {
     "name": "stdout",
     "output_type": "stream",
     "text": [
      "The autoreload extension is already loaded. To reload it, use:\n",
      "  %reload_ext autoreload\n"
     ]
    }
   ],
   "source": [
    "%load_ext autoreload\n",
    "%autoreload 2\n",
    "\n",
    "import numpy as np\n",
    "import matplotlib.pyplot as plt   \n",
    "colors = plt.rcParams['axes.prop_cycle'].by_key()['color']\n",
    "plt.rcParams.update({\"axes.grid\" : True, \"grid.color\": \"black\", \"grid.alpha\":\"0.25\", \"grid.linestyle\": \"--\"})\n",
    "plt.rcParams.update({'font.size': 14})\n",
    "\n",
    "import scipy.optimize as opt\n",
    "from ConSavModel import ConSavModelClass\n",
    "import scipy"
   ]
  },
  {
   "cell_type": "markdown",
   "metadata": {},
   "source": [
    "## 1. <a id='toc1_'></a>[Setup](#toc0_)"
   ]
  },
  {
   "cell_type": "code",
   "execution_count": 2,
   "metadata": {},
   "outputs": [],
   "source": [
    "model = ConSavModelClass()"
   ]
  },
  {
   "cell_type": "markdown",
   "metadata": {},
   "source": [
    "## 2. <a id='toc2_'></a>[Calibration of aggregate wealth](#toc0_)"
   ]
  },
  {
   "cell_type": "code",
   "execution_count": 57,
   "metadata": {},
   "outputs": [],
   "source": [
    "def calibrate_agg_wealth(x, model, wealth_to_income_target):\n",
    "    \n",
    "    # a. guess on beta \n",
    "    model.par.beta = x \n",
    "\n",
    "    # b. solve\n",
    "    model.solve(do_print=False)\n",
    "\n",
    "    # c. simulate\n",
    "    model.simulate(do_print=False)\n",
    "\n",
    "    # d. aggregate \n",
    "    A = np.sum(model.sim.D*model.sol.a)\n",
    "    print(wealth_to_income_target - A/model.par.w)\n",
    "   \n",
    "    return wealth_to_income_target - A/model.par.w "
   ]
  },
  {
   "cell_type": "markdown",
   "metadata": {},
   "source": [
    "Calibrate model with high level of liquidity "
   ]
  },
  {
   "cell_type": "code",
   "execution_count": 59,
   "metadata": {},
   "outputs": [
    {
     "name": "stdout",
     "output_type": "stream",
     "text": [
      "16.4\n",
      "-22.76643187945475\n",
      "16.4\n",
      "16.390519465321077\n",
      "15.996962675119505\n",
      "14.28776228982584\n",
      "10.714925440748155\n",
      "5.273555774159611\n",
      "-1.4639179843116743\n",
      "2.577406642515408\n",
      "0.7827724289480216\n",
      "-0.273659009428858\n",
      "0.26978302090324746\n",
      "0.002042736804085621\n",
      "-0.1347894298296204\n",
      "-0.06612092077251219\n",
      "-0.031976722432602855\n",
      "-0.014951451157486417\n",
      "-0.006448072302891461\n",
      "-0.002201700764917547\n",
      "-7.924032395223435e-05\n",
      "0.000981808642507076\n",
      "0.0004512992546246153\n",
      "0.00018603323302102126\n",
      "5.339740472010135e-05\n",
      "-1.2921217134476137e-05\n",
      "2.0238152785623242e-05\n",
      "3.6584818872142932e-06\n",
      "-4.631364276974637e-06\n",
      "-4.864405838134189e-07\n",
      "1.5860209501283862e-06\n",
      "5.497905277707105e-07\n",
      "3.1675025269350954e-08\n",
      "-2.2738244354059134e-07\n",
      "-9.785337340417755e-08\n",
      "-3.3089175843770136e-08\n",
      "-7.067697538332141e-10\n",
      "1.5484133086829388e-08\n",
      "7.388681666498087e-09\n"
     ]
    }
   ],
   "source": [
    "# Wealth target \n",
    "target_high_wealth = 4.1 * 4 # annual wealth to income ratio of 4.1, converted to quarterly frequency  \n",
    "### ADD CODE HERE ###\n",
    "opt_beta=opt.root_scalar(calibrate_agg_wealth, args=(model, target_high_wealth), bracket=[0.8, 0.989],method='bisect').root\n",
    "# Add root finder (using the scipy package for instance) which findes the root of calibrate_agg_wealth() \n",
    "model.par.beta=opt_beta"
   ]
  },
  {
   "cell_type": "markdown",
   "metadata": {},
   "source": [
    "MPCs "
   ]
  },
  {
   "cell_type": "code",
   "execution_count": 60,
   "metadata": {},
   "outputs": [
    {
     "name": "stdout",
     "output_type": "stream",
     "text": [
      "mean MPC:  0.085\n"
     ]
    }
   ],
   "source": [
    "def get_mpcs(model, do_print=False):\n",
    "    c = model.sol.c \n",
    "    a = model.sol.a  \n",
    "    par = model.par\n",
    "    a_grid = par.a_grid \n",
    "\n",
    "    # Initialize and post return\n",
    "    mpc = np.zeros_like(c)\n",
    "    post_return = (1 + par.r) * a_grid\n",
    "\n",
    "    # Calculate mpc for the inner part of the array as the slope of the consumption function \n",
    "    mpc[:,:, 1:] = np.diff(c, axis=2) / np.diff(post_return)\n",
    "\n",
    "    # Handle boundary cases (first and last columns)\n",
    "    mpc[:,:, 0] = (c[:,:, 1] - c[:,:, 0]) / (post_return[1] - post_return[0])\n",
    "    mpc[:,:, -1] = (c[:,:, -1] - c[:,:, -2]) / (post_return[-1] - post_return[-2])\n",
    "\n",
    "    # Set MPC to 1 if constrained \n",
    "    mpc[a == a_grid[0]] = 1\n",
    "\n",
    "    MPC = np.sum(mpc*model.sim.D)\n",
    "    if do_print: print(f'mean MPC: {MPC:6.3f}')\n",
    "\n",
    "    return mpc\n",
    "\n",
    "_ = get_mpcs(model, do_print=True)"
   ]
  },
  {
   "cell_type": "markdown",
   "metadata": {},
   "source": [
    "Plot MPCs and distribution "
   ]
  },
  {
   "cell_type": "code",
   "execution_count": 61,
   "metadata": {},
   "outputs": [
    {
     "data": {
      "image/png": "[encoded data removed]",
      "text/plain": [
       "<Figure size 640x480 with 2 Axes>"
      ]
     },
     "metadata": {},
     "output_type": "display_data"
    }
   ],
   "source": [
    "def mpc_plot(model, a_max=5., N_bins=6):\n",
    "\n",
    "    # mpc \n",
    "    mpc = get_mpcs(model, do_print=False)\n",
    "\n",
    "    # unload \n",
    "    par = model.par \n",
    "    D = model.sim.D \n",
    "    z_ergodic = par.z_ergodic\n",
    "    a_grid = par.a_grid\n",
    "    mpc_a = np.sum(mpc*z_ergodic[None,:,None], axis=(0,1))  # average over income in order to plot over assets only \n",
    "    D_a = np.sum(D, axis=(0,1))\n",
    "\n",
    "    # plot settings for histogram \n",
    "    i_a_max = np.searchsorted(a_grid, a_max) - 1\n",
    "\n",
    "    # bin distribution for better plot \n",
    "    from scipy.stats import binned_statistic\n",
    "    D_A_binned, bin_edges, binnumber = binned_statistic(a_grid[:i_a_max], D_a[:i_a_max], statistic='sum', bins=N_bins)\n",
    "    D_A_binned[-1] += np.sum(D_a[i_a_max:]) # add all mass above a_max to top bin \n",
    "    bin_centers = (bin_edges[:-1] + bin_edges[1:]) / 2 # get bin centers for plot \n",
    "\n",
    "    # Plot \n",
    "    fig, ax1 = plt.subplots()   \n",
    "\n",
    "    # Plot mpc\n",
    "    ax1.plot(a_grid[:i_a_max], mpc_a[:i_a_max], color='black', label='mpc', linewidth=3.5)\n",
    "    ax1.set_xlabel('Assets')\n",
    "    ax1.set_ylabel('mpc')\n",
    "    ax1.tick_params(axis='y')\n",
    "    ax1.set_ylim([0.,0.7])\n",
    "\n",
    "    # Create a second y-axis for the histogram\n",
    "    ax2 = ax1.twinx()\n",
    "    ax2.bar(bin_centers, D_A_binned, width=bin_edges[1] - bin_edges[0], color='royalblue', alpha=0.6, label=\"Distribution\")\n",
    "    ax2.set_ylabel('Mass')\n",
    "    ax2.tick_params(axis='y')\n",
    "    ax2.set_ylim([0.,1.])\n",
    "\n",
    "    plt.title(\"Plot of MPCs and distribution D\")\n",
    "    plt.show()\n",
    "\n",
    "mpc_plot(model)"
   ]
  },
  {
   "cell_type": "markdown",
   "metadata": {},
   "source": [
    "Calibrate model with low level of liquidity "
   ]
  },
  {
   "cell_type": "code",
   "execution_count": 64,
   "metadata": {},
   "outputs": [
    {
     "name": "stdout",
     "output_type": "stream",
     "text": [
      "2.0\n",
      "-37.16643187945475\n",
      "2.0\n",
      "2.0\n",
      "2.0\n",
      "1.8476845675953588\n",
      "0.7204885367556022\n",
      "-2.129918119797451\n",
      "-0.2273230859191413\n",
      "0.32094695482131774\n",
      "0.06928255770213987\n",
      "-0.07277158246505522\n",
      "-0.0002957422438485402\n",
      "0.03484731126272589\n",
      "0.01736468145097847\n",
      "0.00855680362856548\n",
      "0.004136231845673688\n",
      "0.0019216694436652304\n",
      "0.000813311256041116\n",
      "0.0002588710382354087\n",
      "-1.8413965000352306e-05\n",
      "0.00012023394770976914\n",
      "5.09113411735207e-05\n",
      "1.6249026153491997e-05\n",
      "-1.0823848901608812e-06\n",
      "7.58334174300046e-06\n",
      "3.2504837113034313e-06\n",
      "1.084050712529816e-06\n",
      "8.33260793697832e-10\n",
      "-5.40775717539077e-07\n",
      "-2.699712404741206e-07\n",
      "-1.3456895331387386e-07\n",
      "-6.686786235832187e-08\n",
      "-3.301728579430119e-08\n",
      "-1.609204725028235e-08\n",
      "-7.629393561359166e-09\n",
      "-3.3980502855968098e-09\n",
      "-1.2823964112840258e-09\n",
      "-2.2458390702695397e-10\n",
      "3.04337000045507e-10\n",
      "0.976821759277871\n"
     ]
    }
   ],
   "source": [
    "model_low_wealth = model.copy()\n",
    "target_low_wealth = 0.5 * 4\n",
    "\n",
    "### ADD CODE HERE ###\n",
    "opt_beta_low=opt.root_scalar(calibrate_agg_wealth, args=(model_low_wealth, target_low_wealth), bracket=[0.5, 0.989],method='bisect').root\n",
    "# Add root finder (using the scipy package for instance) which findes the root of calibrate_agg_wealth() \n",
    "model_low_wealth.par.beta=opt_beta_low\n",
    "print(model_low_wealth.par.beta)"
   ]
  },
  {
   "cell_type": "markdown",
   "metadata": {},
   "source": [
    "Aggregate MPC "
   ]
  },
  {
   "cell_type": "code",
   "execution_count": 65,
   "metadata": {},
   "outputs": [
    {
     "name": "stdout",
     "output_type": "stream",
     "text": [
      "mean MPC:  0.342\n"
     ]
    }
   ],
   "source": [
    "_ = get_mpcs(model_low_wealth, do_print=True)"
   ]
  },
  {
   "cell_type": "markdown",
   "metadata": {},
   "source": [
    "plot mpcs "
   ]
  },
  {
   "cell_type": "code",
   "execution_count": 66,
   "metadata": {},
   "outputs": [
    {
     "data": {
      "image/png": "[encoded data removed]",
      "text/plain": [
       "<Figure size 640x480 with 2 Axes>"
      ]
     },
     "metadata": {},
     "output_type": "display_data"
    }
   ],
   "source": [
    "mpc_plot(model_low_wealth)"
   ]
  },
  {
   "cell_type": "markdown",
   "metadata": {},
   "source": [
    "## 3. <a id='toc3_'></a>[Het-$\\beta$ model](#toc0_)"
   ]
  },
  {
   "cell_type": "markdown",
   "metadata": {},
   "source": [
    "Modify the household problem to allow for different discount factors across the population. In particular, the model is given by:\n",
    "\\begin{aligned}V\\left(a_{t-1},z_{t},\\beta'\\right)= & \\max_{c_{t}}u\\left(c_{t}\\right)+\\beta'\\mathbb{E}\\left[V\\left(a_{t},z_{t+1},\\beta'\\right)\\right]\\\\\n",
    " & \\text{ subject to }\\\\\n",
    " & c_{t}+a_{t}\\leq a_{t-1}\\left(1+r\\right)+z_{t}\\\\\n",
    " & a_{t}\\geq\\underline{a}\n",
    "\\end{aligned}\n",
    "where $\\beta$ comes from an evenly spaced grid with $N_\\beta$ points between $\\beta-2\\Delta,\\beta+2\\Delta$. \n",
    "Calibrate the model to match both a high level of liquidity and a high aggregate MPC using $(\\beta, \\Delta)$.\n",
    "\n",
    "Note: You will need to update the code to set the beta grid (see next cell), and update the household problem (*solve_hh_backwards_egm*) appropriately."
   ]
  },
  {
   "cell_type": "code",
   "execution_count": 67,
   "metadata": {},
   "outputs": [],
   "source": [
    "model_hetbeta = ConSavModelClass()\n",
    "model_hetbeta.par.Nbeta = 2 # Number of beta grid points \n",
    "model_hetbeta.allocate() # update size of beta grid \n",
    "model_hetbeta.par.beta_grid[:] = [0.8, 0.9] # set beta grid points"
   ]
  },
  {
   "cell_type": "code",
   "execution_count": 68,
   "metadata": {},
   "outputs": [
    {
     "name": "stdout",
     "output_type": "stream",
     "text": [
      "iteration    0 solved in 0.0 secs   [max abs. diff. 1.46e+02]\n",
      "iteration    1 solved in 0.0 secs   [max abs. diff. 4.90e+01]\n",
      "iteration    2 solved in 0.0 secs   [max abs. diff. 2.46e+01]\n",
      "iteration    3 solved in 0.0 secs   [max abs. diff. 1.47e+01]\n",
      "iteration    4 solved in 0.0 secs   [max abs. diff. 9.83e+00]\n",
      "iteration    5 solved in 0.0 secs   [max abs. diff. 7.01e+00]\n",
      "iteration    6 solved in 0.0 secs   [max abs. diff. 5.25e+00]\n",
      "iteration    7 solved in 0.0 secs   [max abs. diff. 4.08e+00]\n",
      "iteration    8 solved in 0.0 secs   [max abs. diff. 3.26e+00]\n",
      "iteration    9 solved in 0.0 secs   [max abs. diff. 2.66e+00]\n",
      "iteration  100 solved in 0.0 secs   [max abs. diff. 1.80e-04]\n",
      "iteration  158 solved in 0.0 secs   [max abs. diff. 9.80e-09]\n",
      "model solved in 0.1 secs\n"
     ]
    }
   ],
   "source": [
    "model_hetbeta.solve(do_print=True)"
   ]
  },
  {
   "cell_type": "code",
   "execution_count": 69,
   "metadata": {},
   "outputs": [
    {
     "name": "stdout",
     "output_type": "stream",
     "text": [
      "model prepared for simulation in 0.0 secs\n",
      "model simulated in 0.0 secs [114 iterations]\n"
     ]
    }
   ],
   "source": [
    "model_hetbeta.simulate(do_print=True)"
   ]
  },
  {
   "cell_type": "markdown",
   "metadata": {},
   "source": [
    "Check the distribution "
   ]
  },
  {
   "cell_type": "code",
   "execution_count": 70,
   "metadata": {},
   "outputs": [
    {
     "name": "stdout",
     "output_type": "stream",
     "text": [
      "Mass of distribution (should be 1): 0.9999999994235917\n"
     ]
    }
   ],
   "source": [
    "print('Mass of distribution (should be 1):', np.sum(model_hetbeta.sim.D))\n",
    "assert np.isclose(np.sum(model_hetbeta.sim.D), 1.0 )"
   ]
  },
  {
   "cell_type": "markdown",
   "metadata": {},
   "source": [
    "Check how many households are in the beta states. If the distribution is uniform it should have an equal number of households across the beta grid"
   ]
  },
  {
   "cell_type": "code",
   "execution_count": 71,
   "metadata": {},
   "outputs": [
    {
     "name": "stdout",
     "output_type": "stream",
     "text": [
      "Mass of households across beta grid: [0.5 0.5]\n",
      "Should be 0.5\n"
     ]
    }
   ],
   "source": [
    "beta_mass = np.sum(model_hetbeta.sim.D,axis=(1,2)).round(2)\n",
    "print(f'Mass of households across beta grid: {beta_mass}')\n",
    "print(f'Should be {1/model_hetbeta.par.Nbeta}')"
   ]
  },
  {
   "cell_type": "markdown",
   "metadata": {},
   "source": [
    "Next, calibrate the model to both feature a high MPC and a high level of wealth"
   ]
  },
  {
   "cell_type": "code",
   "execution_count": 111,
   "metadata": {},
   "outputs": [
    {
     "name": "stdout",
     "output_type": "stream",
     "text": [
      "16.397737094540744 0.6434599881113592\n",
      "16.39309388626776 0.6386505032148309\n"
     ]
    },
    {
     "name": "stderr",
     "output_type": "stream",
     "text": [
      "C:\\Users\\krist\\AppData\\Local\\Temp\\ipykernel_16040\\1572226994.py:29: OptimizeWarning: Initial guess is not within the specified bounds\n",
      "  opt_beta_het=opt.minimize(calibrate_agg_wealth_and_mpc, guess, args=(model_hetbeta, target_high_wealth, target_mpc), bounds=bounds, method='Nelder-Mead').x\n"
     ]
    },
    {
     "name": "stdout",
     "output_type": "stream",
     "text": [
      "10.817726234164741 -0.14527031260811388\n",
      "16.39309388626776 0.6386505032148309\n",
      "10.81772623416462 -0.14527031260811615\n",
      "7.864966564208087 -0.19530866398550964\n",
      "7.864966564208087 -0.19530866398550964\n",
      "7.864966564208087 -0.19530866398550964\n",
      "7.864966564208087 -0.19530866398550964\n",
      "7.864966564208087 -0.19530866398550964\n",
      "7.864966564208087 -0.19530866398550964\n",
      "7.864966564208087 -0.19530866398550964\n",
      "7.864966564208087 -0.19530866398550964\n",
      "7.864966564208087 -0.19530866398550964\n"
     ]
    },
    {
     "name": "stderr",
     "output_type": "stream",
     "text": [
      "Traceback (most recent call last):\n",
      "  File \"c:\\Users\\krist\\OneDrive - Københavns Universitet\\11. semester\\Heterogenous agent models\\AdvMacroHet_fork\\02-Consumption-Saving\\ConSavModel.py\", line 140, in solve\n",
      "    solve_hh_backwards_egm(par,c_plus,sol.c,sol.a)\n",
      "KeyboardInterrupt\n"
     ]
    },
    {
     "ename": "KeyboardInterrupt",
     "evalue": "",
     "output_type": "error",
     "traceback": [
      "\u001b[1;31m---------------------------------------------------------------------------\u001b[0m",
      "\u001b[1;31mKeyboardInterrupt\u001b[0m                         Traceback (most recent call last)",
      "Cell \u001b[1;32mIn[111], line 29\u001b[0m\n\u001b[0;32m     27\u001b[0m calibrate_agg_wealth_and_mpc(guess, model_hetbeta, target_high_wealth, target_mpc)\n\u001b[0;32m     28\u001b[0m bounds \u001b[38;5;241m=\u001b[39m [(\u001b[38;5;241m0.94\u001b[39m, \u001b[38;5;241m0.985\u001b[39m), (\u001b[38;5;241m0.001\u001b[39m, \u001b[38;5;241m0.1\u001b[39m)]\n\u001b[1;32m---> 29\u001b[0m opt_beta_het\u001b[38;5;241m=\u001b[39mopt\u001b[38;5;241m.\u001b[39mminimize(calibrate_agg_wealth_and_mpc, guess, args\u001b[38;5;241m=\u001b[39m(model_hetbeta, target_high_wealth, target_mpc), bounds\u001b[38;5;241m=\u001b[39mbounds, method\u001b[38;5;241m=\u001b[39m\u001b[38;5;124m'\u001b[39m\u001b[38;5;124mNelder-Mead\u001b[39m\u001b[38;5;124m'\u001b[39m)\u001b[38;5;241m.\u001b[39mx\n",
      "File \u001b[1;32mc:\\Users\\krist\\anaconda3\\Lib\\site-packages\\scipy\\optimize\\_minimize.py:701\u001b[0m, in \u001b[0;36mminimize\u001b[1;34m(fun, x0, args, method, jac, hess, hessp, bounds, constraints, tol, callback, options)\u001b[0m\n\u001b[0;32m    698\u001b[0m callback \u001b[38;5;241m=\u001b[39m _wrap_callback(callback, meth)\n\u001b[0;32m    700\u001b[0m \u001b[38;5;28;01mif\u001b[39;00m meth \u001b[38;5;241m==\u001b[39m \u001b[38;5;124m'\u001b[39m\u001b[38;5;124mnelder-mead\u001b[39m\u001b[38;5;124m'\u001b[39m:\n\u001b[1;32m--> 701\u001b[0m     res \u001b[38;5;241m=\u001b[39m _minimize_neldermead(fun, x0, args, callback, bounds\u001b[38;5;241m=\u001b[39mbounds,\n\u001b[0;32m    702\u001b[0m                                \u001b[38;5;241m*\u001b[39m\u001b[38;5;241m*\u001b[39moptions)\n\u001b[0;32m    703\u001b[0m \u001b[38;5;28;01melif\u001b[39;00m meth \u001b[38;5;241m==\u001b[39m \u001b[38;5;124m'\u001b[39m\u001b[38;5;124mpowell\u001b[39m\u001b[38;5;124m'\u001b[39m:\n\u001b[0;32m    704\u001b[0m     res \u001b[38;5;241m=\u001b[39m _minimize_powell(fun, x0, args, callback, bounds, \u001b[38;5;241m*\u001b[39m\u001b[38;5;241m*\u001b[39moptions)\n",
      "File \u001b[1;32mc:\\Users\\krist\\anaconda3\\Lib\\site-packages\\scipy\\optimize\\_optimize.py:880\u001b[0m, in \u001b[0;36m_minimize_neldermead\u001b[1;34m(func, x0, args, callback, maxiter, maxfev, disp, return_all, initial_simplex, xatol, fatol, adaptive, bounds, **unknown_options)\u001b[0m\n\u001b[0;32m    878\u001b[0m \u001b[38;5;28;01mif\u001b[39;00m bounds \u001b[38;5;129;01mis\u001b[39;00m \u001b[38;5;129;01mnot\u001b[39;00m \u001b[38;5;28;01mNone\u001b[39;00m:\n\u001b[0;32m    879\u001b[0m     xcc \u001b[38;5;241m=\u001b[39m np\u001b[38;5;241m.\u001b[39mclip(xcc, lower_bound, upper_bound)\n\u001b[1;32m--> 880\u001b[0m fxcc \u001b[38;5;241m=\u001b[39m func(xcc)\n\u001b[0;32m    882\u001b[0m \u001b[38;5;28;01mif\u001b[39;00m fxcc \u001b[38;5;241m<\u001b[39m fsim[\u001b[38;5;241m-\u001b[39m\u001b[38;5;241m1\u001b[39m]:\n\u001b[0;32m    883\u001b[0m     sim[\u001b[38;5;241m-\u001b[39m\u001b[38;5;241m1\u001b[39m] \u001b[38;5;241m=\u001b[39m xcc\n",
      "File \u001b[1;32mc:\\Users\\krist\\anaconda3\\Lib\\site-packages\\scipy\\optimize\\_optimize.py:526\u001b[0m, in \u001b[0;36m_wrap_scalar_function_maxfun_validation.<locals>.function_wrapper\u001b[1;34m(x, *wrapper_args)\u001b[0m\n\u001b[0;32m    524\u001b[0m ncalls[\u001b[38;5;241m0\u001b[39m] \u001b[38;5;241m+\u001b[39m\u001b[38;5;241m=\u001b[39m \u001b[38;5;241m1\u001b[39m\n\u001b[0;32m    525\u001b[0m \u001b[38;5;66;03m# A copy of x is sent to the user function (gh13740)\u001b[39;00m\n\u001b[1;32m--> 526\u001b[0m fx \u001b[38;5;241m=\u001b[39m function(np\u001b[38;5;241m.\u001b[39mcopy(x), \u001b[38;5;241m*\u001b[39m(wrapper_args \u001b[38;5;241m+\u001b[39m args))\n\u001b[0;32m    527\u001b[0m \u001b[38;5;66;03m# Ideally, we'd like to a have a true scalar returned from f(x). For\u001b[39;00m\n\u001b[0;32m    528\u001b[0m \u001b[38;5;66;03m# backwards-compatibility, also allow np.array([1.3]),\u001b[39;00m\n\u001b[0;32m    529\u001b[0m \u001b[38;5;66;03m# np.array([[1.3]]) etc.\u001b[39;00m\n\u001b[0;32m    530\u001b[0m \u001b[38;5;28;01mif\u001b[39;00m \u001b[38;5;129;01mnot\u001b[39;00m np\u001b[38;5;241m.\u001b[39misscalar(fx):\n",
      "Cell \u001b[1;32mIn[111], line 12\u001b[0m, in \u001b[0;36mcalibrate_agg_wealth_and_mpc\u001b[1;34m(x, model, wealth_to_income_target, mpc_target)\u001b[0m\n\u001b[0;32m      9\u001b[0m model\u001b[38;5;241m.\u001b[39mpar\u001b[38;5;241m.\u001b[39mbeta_grid[:] \u001b[38;5;241m=\u001b[39m [beta\u001b[38;5;241m-\u001b[39m\u001b[38;5;241m2\u001b[39m\u001b[38;5;241m*\u001b[39mDelta, beta\u001b[38;5;241m+\u001b[39m\u001b[38;5;241m2\u001b[39m\u001b[38;5;241m*\u001b[39mDelta] \u001b[38;5;66;03m# set beta grid points\u001b[39;00m\n\u001b[0;32m     11\u001b[0m \u001b[38;5;66;03m# b. solve\u001b[39;00m\n\u001b[1;32m---> 12\u001b[0m model\u001b[38;5;241m.\u001b[39msolve(do_print\u001b[38;5;241m=\u001b[39m\u001b[38;5;28;01mFalse\u001b[39;00m)\n\u001b[0;32m     14\u001b[0m \u001b[38;5;66;03m# c. simulate\u001b[39;00m\n\u001b[0;32m     15\u001b[0m model\u001b[38;5;241m.\u001b[39msimulate(do_print\u001b[38;5;241m=\u001b[39m\u001b[38;5;28;01mFalse\u001b[39;00m)\n",
      "File \u001b[1;32mc:\\Users\\krist\\OneDrive - Københavns Universitet\\11. semester\\Heterogenous agent models\\AdvMacroHet_fork\\02-Consumption-Saving\\ConSavModel.py:140\u001b[0m, in \u001b[0;36mConSavModelClass.solve\u001b[1;34m(self, do_print)\u001b[0m\n\u001b[0;32m    137\u001b[0m     c_plus \u001b[38;5;241m=\u001b[39m sol\u001b[38;5;241m.\u001b[39mc\u001b[38;5;241m.\u001b[39mcopy()\n\u001b[0;32m    139\u001b[0m \u001b[38;5;66;03m# b. solve this period\u001b[39;00m\n\u001b[1;32m--> 140\u001b[0m solve_hh_backwards_egm(par,c_plus,sol\u001b[38;5;241m.\u001b[39mc,sol\u001b[38;5;241m.\u001b[39ma)\n\u001b[0;32m    141\u001b[0m max_abs_diff \u001b[38;5;241m=\u001b[39m np\u001b[38;5;241m.\u001b[39mmax(np\u001b[38;5;241m.\u001b[39mabs(sol\u001b[38;5;241m.\u001b[39mc\u001b[38;5;241m-\u001b[39mc_plus))\n\u001b[0;32m    143\u001b[0m \u001b[38;5;66;03m# c. check convergence\u001b[39;00m\n",
      "\u001b[1;31mKeyboardInterrupt\u001b[0m: "
     ]
    }
   ],
   "source": [
    "# Wealth target \n",
    "target_high_wealth = 4.1 * 4 # annual wealth to income ratio of 4.1, converted to quarterly frequency  \n",
    "target_mpc=0.342\n",
    "\n",
    "def calibrate_agg_wealth_and_mpc(x, model, wealth_to_income_target, mpc_target):\n",
    "    beta, Delta = x\n",
    "    # a. guess on beta \n",
    "    model.par.beta = beta \n",
    "    model.par.beta_grid[:] = [beta-2*Delta, beta+2*Delta] # set beta grid points\n",
    "\n",
    "    # b. solve\n",
    "    model.solve(do_print=False)\n",
    "\n",
    "    # c. simulate\n",
    "    model.simulate(do_print=False)\n",
    "\n",
    "    # d. aggregate \n",
    "    A = np.sum(model.sim.D*model.sol.a)\n",
    "\n",
    "    mpc = np.sum(get_mpcs(model, do_print=False)*model.sim.D)\n",
    "\n",
    "    print(wealth_to_income_target - A/model.par.w, mpc - mpc_target)\n",
    "   \n",
    "    return 0.5*(wealth_to_income_target - A/model.par.w)**2+0.5*(mpc - mpc_target)**2\n",
    "\n",
    "guess=[0.935, 0.02]\n",
    "calibrate_agg_wealth_and_mpc(guess, model_hetbeta, target_high_wealth, target_mpc)\n",
    "bounds = [(0.94, 0.985), (0.001, 0.1)]\n",
    "opt_beta_het=opt.minimize(calibrate_agg_wealth_and_mpc, guess, args=(model_hetbeta, target_high_wealth, target_mpc), bounds=bounds, method='Nelder-Mead').x"
   ]
  },
  {
   "cell_type": "markdown",
   "metadata": {},
   "source": [
    "Check MPC"
   ]
  },
  {
   "cell_type": "code",
   "execution_count": null,
   "metadata": {},
   "outputs": [],
   "source": [
    "_ = get_mpcs(model_hetbeta, do_print=True)"
   ]
  },
  {
   "cell_type": "markdown",
   "metadata": {},
   "source": [
    "Plot MPCs  "
   ]
  },
  {
   "cell_type": "code",
   "execution_count": null,
   "metadata": {},
   "outputs": [],
   "source": [
    "mpc_plot(model_hetbeta)"
   ]
  },
  {
   "cell_type": "markdown",
   "metadata": {},
   "source": [
    "*Final question*. Try changing the mass of agents across the beta distribution. Set Nbeta=3 and assume that the mass is distributed as [0.2, 0.6, 0.2] across the beta grid. What part of the code do you have to modify?"
   ]
  },
  {
   "cell_type": "code",
   "execution_count": null,
   "metadata": {},
   "outputs": [],
   "source": []
  }
 ],
 "metadata": {
  "kernelspec": {
   "display_name": "Python 3 (ipykernel)",
   "language": "python",
   "name": "python3"
  },
  "language_info": {
   "codemirror_mode": {
    "name": "ipython",
    "version": 3
   },
   "file_extension": ".py",
   "mimetype": "text/x-python",
   "name": "python",
   "nbconvert_exporter": "python",
   "pygments_lexer": "ipython3",
   "version": "3.11.7"
  },
  "toc-autonumbering": true
 },
 "nbformat": 4,
 "nbformat_minor": 4
}
