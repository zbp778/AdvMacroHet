{
 "cells": [
  {
   "cell_type": "markdown",
   "metadata": {},
   "source": [
    "# HANC with government and no capital"
   ]
  },
  {
   "cell_type": "markdown",
   "metadata": {},
   "source": [
    "**Table of contents**<a id='toc0_'></a>    \n",
    "- 1. [Setup](#toc1_)    \n",
    "- 2. [Exercises](#toc2_)    \n",
    "\n",
    "<!-- vscode-jupyter-toc-config\n",
    "\tnumbering=true\n",
    "\tanchor=true\n",
    "\tflat=false\n",
    "\tminLevel=2\n",
    "\tmaxLevel=6\n",
    "\t/vscode-jupyter-toc-config -->\n",
    "<!-- THIS CELL WILL BE REPLACED ON TOC UPDATE. DO NOT WRITE YOUR TEXT IN THIS CELL -->"
   ]
  },
  {
   "cell_type": "code",
   "execution_count": 2,
   "metadata": {},
   "outputs": [],
   "source": [
    "%load_ext autoreload\n",
    "%autoreload 2\n",
    "\n",
    "import time\n",
    "import pickle\n",
    "import numpy as np\n",
    "from scipy import optimize\n",
    "\n",
    "import matplotlib.pyplot as plt   \n",
    "colors = plt.rcParams['axes.prop_cycle'].by_key()['color']\n",
    "plt.rcParams.update({\"axes.grid\" : True, \"grid.color\": \"black\", \"grid.alpha\":\"0.25\", \"grid.linestyle\": \"--\"})\n",
    "plt.rcParams.update({'font.size': 14})\n",
    "\n",
    "from HANCGovModel import HANCGovModelClass"
   ]
  },
  {
   "cell_type": "markdown",
   "metadata": {},
   "source": [
    "## 1. <a id='toc1_'></a>[Setup](#toc0_)"
   ]
  },
  {
   "cell_type": "code",
   "execution_count": 3,
   "metadata": {},
   "outputs": [],
   "source": [
    "model = HANCGovModelClass(name='baseline')"
   ]
  },
  {
   "cell_type": "code",
   "execution_count": 4,
   "metadata": {},
   "outputs": [],
   "source": [
    "par = model.par\n",
    "ss = model.ss"
   ]
  },
  {
   "cell_type": "markdown",
   "metadata": {},
   "source": [
    "## 2. <a id='toc2_'></a>[Exercises](#toc0_)"
   ]
  },
  {
   "cell_type": "code",
   "execution_count": 5,
   "metadata": {},
   "outputs": [
    {
     "name": "stdout",
     "output_type": "stream",
     "text": [
      "household problem in ss solved in 0.5 secs [559 iterations]\n",
      "household problem in ss simulated in 4.6 secs [657 iterations]\n"
     ]
    }
   ],
   "source": [
    "model.ss.tau = 0.12\n",
    "model.ss.pB = 0.975\n",
    "\n",
    "model.solve_hh_ss(do_print=True)\n",
    "model.simulate_hh_ss(do_print=True)"
   ]
  },
  {
   "cell_type": "code",
   "execution_count": 6,
   "metadata": {},
   "outputs": [
    {
     "name": "stdout",
     "output_type": "stream",
     "text": [
      "### step 1: broad search ###\n",
      "\n",
      "household problem in ss solved in 0.5 secs [708 iterations]\n",
      "household problem in ss simulated in 1.3 secs [2643 iterations]\n",
      "clearing_B =  -5.36216257\n",
      "\n",
      "household problem in ss solved in 0.6 secs [667 iterations]\n",
      "household problem in ss simulated in 0.3 secs [1104 iterations]\n",
      "clearing_B =  -0.98953667\n",
      "\n",
      "household problem in ss solved in 0.4 secs [561 iterations]\n",
      "household problem in ss simulated in 0.1 secs [657 iterations]\n",
      "clearing_B =   0.66038147\n",
      "\n",
      "household problem in ss solved in 0.4 secs [471 iterations]\n",
      "household problem in ss simulated in 0.1 secs [457 iterations]\n",
      "clearing_B =   1.75267397\n",
      "\n",
      "household problem in ss solved in 0.3 secs [400 iterations]\n",
      "household problem in ss simulated in 0.0 secs [347 iterations]\n",
      "clearing_B =   2.89362016\n",
      "\n",
      "### step 2: determine search bracket ###\n",
      "\n",
      "pB in [  0.97000000,  0.97500000]\n",
      "\n",
      "### step 3: search ###\n",
      "\n",
      "  0: pB =   0.97299874 -> B-A_hh =   0.11937638\n",
      "  1: pB =   0.97260469 -> B-A_hh =  -0.00132021\n",
      "  2: pB =   0.97260900 -> B-A_hh =   0.00003126\n",
      "  3: pB =   0.97260890 -> B-A_hh =   0.00000001\n",
      "  4: pB =   0.97260890 -> B-A_hh =  -0.00000000\n",
      "  5: pB =   0.97260890 -> B-A_hh =   0.00000000\n",
      "\n",
      "pB =   0.97260890 [B-A_hh =  -0.00000000]\n",
      "\n",
      "found steady state in 10.2 secs\n"
     ]
    }
   ],
   "source": [
    "model.find_ss(tau=0.15,do_print=True)"
   ]
  }
 ],
 "metadata": {
  "kernelspec": {
   "display_name": "Python 3 (ipykernel)",
   "language": "python",
   "name": "python3"
  },
  "language_info": {
   "codemirror_mode": {
    "name": "ipython",
    "version": 3
   },
   "file_extension": ".py",
   "mimetype": "text/x-python",
   "name": "python",
   "nbconvert_exporter": "python",
   "pygments_lexer": "ipython3",
   "version": "3.11.7"
  },
  "toc-autonumbering": true
 },
 "nbformat": 4,
 "nbformat_minor": 4
}
