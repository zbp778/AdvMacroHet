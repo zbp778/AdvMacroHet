{
 "cells": [
  {
   "cell_type": "markdown",
   "metadata": {},
   "source": [
    "# Assignment I - The Aiyagari Model"
   ]
  },
  {
   "cell_type": "markdown",
   "metadata": {},
   "source": [
    "**Table of contents**<a id='toc0_'></a>    \n",
    "- 1. [Setup](#toc1_)    \n",
    "- 2. [Q2: Calibrate steady state](#toc2_)    \n",
    "- 3. [Q3: Partial equilibrium effects of tax changes](#toc3_)    \n",
    "- 4. [Q4: Tax reform](#toc4_)    \n",
    "- 5. [Q5: Transition path](#toc5_)    \n",
    "\n",
    "<!-- vscode-jupyter-toc-config\n",
    "\tnumbering=true\n",
    "\tanchor=true\n",
    "\tflat=false\n",
    "\tminLevel=2\n",
    "\tmaxLevel=6\n",
    "\t/vscode-jupyter-toc-config -->\n",
    "<!-- THIS CELL WILL BE REPLACED ON TOC UPDATE. DO NOT WRITE YOUR TEXT IN THIS CELL -->"
   ]
  },
  {
   "cell_type": "code",
   "execution_count": 2,
   "metadata": {},
   "outputs": [],
   "source": [
    "%load_ext autoreload\n",
    "%autoreload 2\n",
    "\n",
    "import numpy as np\n",
    "import matplotlib.pyplot as plt   \n",
    "colors = plt.rcParams['axes.prop_cycle'].by_key()['color']\n",
    "plt.rcParams.update({\"axes.grid\" : True, \"grid.color\": \"black\", \"grid.alpha\":\"0.25\", \"grid.linestyle\": \"--\"})\n",
    "plt.rcParams.update({'font.size': 14})\n",
    "\n",
    "from HANCModel import HANCModelClass"
   ]
  },
  {
   "cell_type": "markdown",
   "metadata": {},
   "source": [
    "## 1. <a id='toc1_'></a>[Setup](#toc0_)"
   ]
  },
  {
   "cell_type": "code",
   "execution_count": 3,
   "metadata": {},
   "outputs": [
    {
     "name": "stdout",
     "output_type": "stream",
     "text": [
      "production_firm: [] -> [Gamma,K,L,rK,w,Y]\n",
      "mutual_fund: [K,rK] -> [A,r]\n",
      "transfers: [] -> [transfer]\n",
      "hh: [r,transfer,w] -> [tau_a,tau_l,A_hh,C_hh,ELL_hh,L_hh,TAXES_hh]\n",
      "market_clearing: [A,A_hh,L,L_hh,K,Y,C_hh,TAXES_hh,transfer] -> [I,clearing_A,clearing_L,clearing_Y,clearing_G]\n"
     ]
    }
   ],
   "source": [
    "model = HANCModelClass(name='baseline') # create an instance of the model\n",
    "model.setup() # setup\n",
    "model.info(only_blocks=True)\n",
    "#model.draw_DAG(figsize=(10,10))"
   ]
  },
  {
   "cell_type": "markdown",
   "metadata": {},
   "source": [
    "## 2. <a id='toc2_'></a>[Q2: Calibrate steady state](#toc0_)"
   ]
  },
  {
   "cell_type": "code",
   "execution_count": 5,
   "metadata": {},
   "outputs": [
    {
     "name": "stdout",
     "output_type": "stream",
     "text": [
      "her gættes der\n",
      "hh\n",
      "efter prepare\n"
     ]
    },
    {
     "ename": "KeyboardInterrupt",
     "evalue": "",
     "output_type": "error",
     "traceback": [
      "\u001b[1;31m---------------------------------------------------------------------------\u001b[0m",
      "\u001b[1;31mKeyboardInterrupt\u001b[0m                         Traceback (most recent call last)",
      "Cell \u001b[1;32mIn[5], line 1\u001b[0m\n\u001b[1;32m----> 1\u001b[0m model\u001b[38;5;241m.\u001b[39mfind_ss(do_print\u001b[38;5;241m=\u001b[39m\u001b[38;5;28;01mTrue\u001b[39;00m, calibrate\u001b[38;5;241m=\u001b[39m\u001b[38;5;28;01mTrue\u001b[39;00m, x0\u001b[38;5;241m=\u001b[39m[\u001b[38;5;241m0.975\u001b[39m,\u001b[38;5;241m0.5\u001b[39m,\u001b[38;5;241m0.5\u001b[39m,\u001b[38;5;241m0.5\u001b[39m])\n",
      "File \u001b[1;32mc:\\Users\\krist\\OneDrive - Københavns Universitet\\11. semester\\Heterogenous agent models\\AdvMacroHet_fork\\Assignments\\Assignment I\\HANC\\steady_state.py:120\u001b[0m, in \u001b[0;36mfind_ss\u001b[1;34m(model, do_print, calibrate, x0)\u001b[0m\n\u001b[0;32m    116\u001b[0m \u001b[38;5;250m\u001b[39m\u001b[38;5;124;03m\"\"\" find steady state \"\"\"\u001b[39;00m\n\u001b[0;32m    118\u001b[0m t0 \u001b[38;5;241m=\u001b[39m time\u001b[38;5;241m.\u001b[39mtime()\n\u001b[1;32m--> 120\u001b[0m find_ss_direct(model, do_print\u001b[38;5;241m=\u001b[39mdo_print, calibrate\u001b[38;5;241m=\u001b[39mcalibrate, x0\u001b[38;5;241m=\u001b[39mx0)\n\u001b[0;32m    122\u001b[0m \u001b[38;5;28;01mif\u001b[39;00m do_print: \u001b[38;5;28mprint\u001b[39m(\u001b[38;5;124mf\u001b[39m\u001b[38;5;124m'\u001b[39m\u001b[38;5;124mfound steady state in \u001b[39m\u001b[38;5;132;01m{\u001b[39;00melapsed(t0)\u001b[38;5;132;01m}\u001b[39;00m\u001b[38;5;124m'\u001b[39m)\n",
      "File \u001b[1;32mc:\\Users\\krist\\OneDrive - Københavns Universitet\\11. semester\\Heterogenous agent models\\AdvMacroHet_fork\\Assignments\\Assignment I\\HANC\\steady_state.py:134\u001b[0m, in \u001b[0;36mfind_ss_direct\u001b[1;34m(model, do_print, calibrate, x0)\u001b[0m\n\u001b[0;32m    132\u001b[0m         x0 \u001b[38;5;241m=\u001b[39m [\u001b[38;5;241m0.1\u001b[39m,\u001b[38;5;241m1.0\u001b[39m] \u001b[38;5;66;03m# transfer, K\u001b[39;00m\n\u001b[0;32m    133\u001b[0m \u001b[38;5;28mprint\u001b[39m(\u001b[38;5;124m\"\u001b[39m\u001b[38;5;124mher gættes der\u001b[39m\u001b[38;5;124m\"\u001b[39m)\n\u001b[1;32m--> 134\u001b[0m sol \u001b[38;5;241m=\u001b[39m optimize\u001b[38;5;241m.\u001b[39mroot(obj_ss, x0, method\u001b[38;5;241m=\u001b[39m\u001b[38;5;124m'\u001b[39m\u001b[38;5;124mhybr\u001b[39m\u001b[38;5;124m'\u001b[39m, args\u001b[38;5;241m=\u001b[39m(model,\u001b[38;5;28;01mFalse\u001b[39;00m,calibrate))\n\u001b[0;32m    135\u001b[0m \u001b[38;5;28mprint\u001b[39m(\u001b[38;5;124m\"\u001b[39m\u001b[38;5;124mkommer vi videre?\u001b[39m\u001b[38;5;124m\"\u001b[39m)\n\u001b[0;32m    136\u001b[0m \u001b[38;5;66;03m# Final evaluation at root \u001b[39;00m\n",
      "File \u001b[1;32mc:\\Users\\krist\\anaconda3\\Lib\\site-packages\\scipy\\optimize\\_root.py:236\u001b[0m, in \u001b[0;36mroot\u001b[1;34m(fun, x0, args, method, jac, tol, callback, options)\u001b[0m\n\u001b[0;32m    233\u001b[0m         options\u001b[38;5;241m.\u001b[39msetdefault(\u001b[38;5;124m'\u001b[39m\u001b[38;5;124mfatol\u001b[39m\u001b[38;5;124m'\u001b[39m, np\u001b[38;5;241m.\u001b[39minf)\n\u001b[0;32m    235\u001b[0m \u001b[38;5;28;01mif\u001b[39;00m meth \u001b[38;5;241m==\u001b[39m \u001b[38;5;124m'\u001b[39m\u001b[38;5;124mhybr\u001b[39m\u001b[38;5;124m'\u001b[39m:\n\u001b[1;32m--> 236\u001b[0m     sol \u001b[38;5;241m=\u001b[39m _root_hybr(fun, x0, args\u001b[38;5;241m=\u001b[39margs, jac\u001b[38;5;241m=\u001b[39mjac, \u001b[38;5;241m*\u001b[39m\u001b[38;5;241m*\u001b[39moptions)\n\u001b[0;32m    237\u001b[0m \u001b[38;5;28;01melif\u001b[39;00m meth \u001b[38;5;241m==\u001b[39m \u001b[38;5;124m'\u001b[39m\u001b[38;5;124mlm\u001b[39m\u001b[38;5;124m'\u001b[39m:\n\u001b[0;32m    238\u001b[0m     sol \u001b[38;5;241m=\u001b[39m _root_leastsq(fun, x0, args\u001b[38;5;241m=\u001b[39margs, jac\u001b[38;5;241m=\u001b[39mjac, \u001b[38;5;241m*\u001b[39m\u001b[38;5;241m*\u001b[39moptions)\n",
      "File \u001b[1;32mc:\\Users\\krist\\anaconda3\\Lib\\site-packages\\scipy\\optimize\\_minpack_py.py:232\u001b[0m, in \u001b[0;36m_root_hybr\u001b[1;34m(func, x0, args, jac, col_deriv, xtol, maxfev, band, eps, factor, diag, **unknown_options)\u001b[0m\n\u001b[0;32m    230\u001b[0m \u001b[38;5;28;01mif\u001b[39;00m \u001b[38;5;129;01mnot\u001b[39;00m \u001b[38;5;28misinstance\u001b[39m(args, \u001b[38;5;28mtuple\u001b[39m):\n\u001b[0;32m    231\u001b[0m     args \u001b[38;5;241m=\u001b[39m (args,)\n\u001b[1;32m--> 232\u001b[0m shape, dtype \u001b[38;5;241m=\u001b[39m _check_func(\u001b[38;5;124m'\u001b[39m\u001b[38;5;124mfsolve\u001b[39m\u001b[38;5;124m'\u001b[39m, \u001b[38;5;124m'\u001b[39m\u001b[38;5;124mfunc\u001b[39m\u001b[38;5;124m'\u001b[39m, func, x0, args, n, (n,))\n\u001b[0;32m    233\u001b[0m \u001b[38;5;28;01mif\u001b[39;00m epsfcn \u001b[38;5;129;01mis\u001b[39;00m \u001b[38;5;28;01mNone\u001b[39;00m:\n\u001b[0;32m    234\u001b[0m     epsfcn \u001b[38;5;241m=\u001b[39m finfo(dtype)\u001b[38;5;241m.\u001b[39meps\n",
      "File \u001b[1;32mc:\\Users\\krist\\anaconda3\\Lib\\site-packages\\scipy\\optimize\\_minpack_py.py:29\u001b[0m, in \u001b[0;36m_check_func\u001b[1;34m(checker, argname, thefunc, x0, args, numinputs, output_shape)\u001b[0m\n\u001b[0;32m     27\u001b[0m \u001b[38;5;28;01mdef\u001b[39;00m \u001b[38;5;21m_check_func\u001b[39m(checker, argname, thefunc, x0, args, numinputs,\n\u001b[0;32m     28\u001b[0m                 output_shape\u001b[38;5;241m=\u001b[39m\u001b[38;5;28;01mNone\u001b[39;00m):\n\u001b[1;32m---> 29\u001b[0m     res \u001b[38;5;241m=\u001b[39m atleast_1d(thefunc(\u001b[38;5;241m*\u001b[39m((x0[:numinputs],) \u001b[38;5;241m+\u001b[39m args)))\n\u001b[0;32m     30\u001b[0m     \u001b[38;5;28;01mif\u001b[39;00m (output_shape \u001b[38;5;129;01mis\u001b[39;00m \u001b[38;5;129;01mnot\u001b[39;00m \u001b[38;5;28;01mNone\u001b[39;00m) \u001b[38;5;129;01mand\u001b[39;00m (shape(res) \u001b[38;5;241m!=\u001b[39m output_shape):\n\u001b[0;32m     31\u001b[0m         \u001b[38;5;28;01mif\u001b[39;00m (output_shape[\u001b[38;5;241m0\u001b[39m] \u001b[38;5;241m!=\u001b[39m \u001b[38;5;241m1\u001b[39m):\n",
      "File \u001b[1;32mc:\\Users\\krist\\OneDrive - Københavns Universitet\\11. semester\\Heterogenous agent models\\AdvMacroHet_fork\\Assignments\\Assignment I\\HANC\\steady_state.py:87\u001b[0m, in \u001b[0;36mobj_ss\u001b[1;34m(x, model, do_print, calibrate)\u001b[0m\n\u001b[0;32m     85\u001b[0m prepare_hh_ss(model)\n\u001b[0;32m     86\u001b[0m \u001b[38;5;28mprint\u001b[39m(\u001b[38;5;124m\"\u001b[39m\u001b[38;5;124mefter prepare\u001b[39m\u001b[38;5;124m\"\u001b[39m)\n\u001b[1;32m---> 87\u001b[0m model\u001b[38;5;241m.\u001b[39msolve_hh_ss(do_print\u001b[38;5;241m=\u001b[39mdo_print)\n\u001b[0;32m     88\u001b[0m \u001b[38;5;28mprint\u001b[39m(\u001b[38;5;124m\"\u001b[39m\u001b[38;5;124m efter hh solve\u001b[39m\u001b[38;5;124m\"\u001b[39m)\n\u001b[0;32m     89\u001b[0m model\u001b[38;5;241m.\u001b[39msimulate_hh_ss(do_print\u001b[38;5;241m=\u001b[39mdo_print)\n",
      "File \u001b[1;32mc:\\users\\krist\\onedrive - københavns universitet\\11. semester\\heterogenous agent models\\gemodeltools\\GEModelTools\\GEModelClass.py:649\u001b[0m, in \u001b[0;36mGEModelClass.solve_hh_ss\u001b[1;34m(self, do_print, initial_guess)\u001b[0m\n\u001b[0;32m    647\u001b[0m \u001b[38;5;66;03m# ii. step backwards\u001b[39;00m\n\u001b[0;32m    648\u001b[0m stepvars_hh \u001b[38;5;241m=\u001b[39m \u001b[38;5;28mself\u001b[39m\u001b[38;5;241m.\u001b[39m_get_stepvars_hh_ss()\n\u001b[1;32m--> 649\u001b[0m \u001b[38;5;28mself\u001b[39m\u001b[38;5;241m.\u001b[39mcall_hh_function(\u001b[38;5;124m'\u001b[39m\u001b[38;5;124msolve_hh_backwards\u001b[39m\u001b[38;5;124m'\u001b[39m,stepvars_hh)\n\u001b[0;32m    651\u001b[0m \u001b[38;5;66;03m# iii. check change in policy\u001b[39;00m\n\u001b[0;32m    652\u001b[0m max_abs_diff \u001b[38;5;241m=\u001b[39m \u001b[38;5;28mmax\u001b[39m([np\u001b[38;5;241m.\u001b[39mmax(np\u001b[38;5;241m.\u001b[39mabs(\u001b[38;5;28mgetattr\u001b[39m(ss,pol)\u001b[38;5;241m-\u001b[39mold[pol])) \u001b[38;5;28;01mfor\u001b[39;00m pol \u001b[38;5;129;01min\u001b[39;00m \u001b[38;5;28mself\u001b[39m\u001b[38;5;241m.\u001b[39mpols_hh])\n",
      "File \u001b[1;32mc:\\users\\krist\\onedrive - københavns universitet\\11. semester\\heterogenous agent models\\gemodeltools\\GEModelTools\\GEModelClass.py:488\u001b[0m, in \u001b[0;36mGEModelClass.call_hh_function\u001b[1;34m(self, funcname, inputs)\u001b[0m\n\u001b[0;32m    486\u001b[0m \u001b[38;5;28;01mif\u001b[39;00m \u001b[38;5;28mself\u001b[39m\u001b[38;5;241m.\u001b[39mpar\u001b[38;5;241m.\u001b[39mpy_hh:\n\u001b[0;32m    487\u001b[0m     \u001b[38;5;28;01mif\u001b[39;00m \u001b[38;5;28mhasattr\u001b[39m(func,\u001b[38;5;124m'\u001b[39m\u001b[38;5;124mpy_func\u001b[39m\u001b[38;5;124m'\u001b[39m):\n\u001b[1;32m--> 488\u001b[0m         func\u001b[38;5;241m.\u001b[39mpy_func(\u001b[38;5;241m*\u001b[39m\u001b[38;5;241m*\u001b[39minputs)\n\u001b[0;32m    489\u001b[0m     \u001b[38;5;28;01melse\u001b[39;00m:\n\u001b[0;32m    490\u001b[0m         func(\u001b[38;5;241m*\u001b[39m\u001b[38;5;241m*\u001b[39minputs)\n",
      "File \u001b[1;32mc:\\Users\\krist\\OneDrive - Københavns Universitet\\11. semester\\Heterogenous agent models\\AdvMacroHet_fork\\Assignments\\Assignment I\\HANC\\household_problem.py:64\u001b[0m, in \u001b[0;36msolve_hh_backwards\u001b[1;34m(par, z_trans, r, w, vbeg_a_plus, vbeg_a, a, c, l, ell, tau_l, tau_a, taxes, transfer, ss)\u001b[0m\n\u001b[0;32m     62\u001b[0m \u001b[38;5;66;03m# b. expectation step \u001b[39;00m\n\u001b[0;32m     63\u001b[0m v_a \u001b[38;5;241m=\u001b[39m (\u001b[38;5;241m1\u001b[39m\u001b[38;5;241m+\u001b[39m(\u001b[38;5;241m1\u001b[39m\u001b[38;5;241m-\u001b[39mtau_a)\u001b[38;5;241m*\u001b[39mr)\u001b[38;5;241m*\u001b[39mc[i_fix]\u001b[38;5;241m*\u001b[39m\u001b[38;5;241m*\u001b[39m(\u001b[38;5;241m-\u001b[39mpar\u001b[38;5;241m.\u001b[39msigma)\n\u001b[1;32m---> 64\u001b[0m vbeg_a[i_fix] \u001b[38;5;241m=\u001b[39m z_trans[i_fix]\u001b[38;5;129m@v_a\u001b[39m\n",
      "\u001b[1;31mKeyboardInterrupt\u001b[0m: "
     ]
    }
   ],
   "source": [
    "model.find_ss(do_print=True, calibrate=True, x0=[0.975,0.5,0.5,0.5]) # <- need to be updated in order to run!"
   ]
  },
  {
   "cell_type": "markdown",
   "metadata": {},
   "source": [
    "## 3. <a id='toc3_'></a>[Q3: Partial equilibrium effects of tax changes](#toc0_)"
   ]
  },
  {
   "cell_type": "code",
   "execution_count": 14,
   "metadata": {},
   "outputs": [],
   "source": [
    "## CODE HERE ##"
   ]
  },
  {
   "cell_type": "markdown",
   "metadata": {},
   "source": [
    "## 4. <a id='toc4_'></a>[Q4: Tax reform](#toc0_)"
   ]
  },
  {
   "cell_type": "markdown",
   "metadata": {},
   "source": [
    "Raise capital tax from 10% to 50%"
   ]
  },
  {
   "cell_type": "code",
   "execution_count": 6,
   "metadata": {},
   "outputs": [],
   "source": [
    "model_high_tax = model.copy()\n",
    "model_high_tax.par.tau_a_ss = 0.5 "
   ]
  },
  {
   "cell_type": "markdown",
   "metadata": {},
   "source": [
    "Find new steady state "
   ]
  },
  {
   "cell_type": "code",
   "execution_count": null,
   "metadata": {},
   "outputs": [],
   "source": [
    "model_high_tax.find_ss(do_print=True, calibrate=False) # <- need to be updated in order to run!"
   ]
  },
  {
   "cell_type": "markdown",
   "metadata": {},
   "source": [
    "Analysis "
   ]
  },
  {
   "cell_type": "code",
   "execution_count": 4,
   "metadata": {},
   "outputs": [],
   "source": [
    "## CODE HERE ##"
   ]
  },
  {
   "cell_type": "markdown",
   "metadata": {},
   "source": [
    "## 5. <a id='toc5_'></a>[Q5: Transition path](#toc0_)"
   ]
  },
  {
   "cell_type": "markdown",
   "metadata": {},
   "source": [
    "Ensure that transition path blocks are consistent with steady states "
   ]
  },
  {
   "cell_type": "code",
   "execution_count": null,
   "metadata": {},
   "outputs": [],
   "source": [
    "model.test_path()"
   ]
  },
  {
   "cell_type": "code",
   "execution_count": null,
   "metadata": {},
   "outputs": [],
   "source": [
    "model_high_tax.test_path()"
   ]
  },
  {
   "cell_type": "markdown",
   "metadata": {},
   "source": [
    "Transition"
   ]
  },
  {
   "cell_type": "code",
   "execution_count": null,
   "metadata": {},
   "outputs": [],
   "source": [
    "## CODE HERE ##"
   ]
  }
 ],
 "metadata": {
  "kernelspec": {
   "display_name": "base",
   "language": "python",
   "name": "python3"
  },
  "language_info": {
   "codemirror_mode": {
    "name": "ipython",
    "version": 3
   },
   "file_extension": ".py",
   "mimetype": "text/x-python",
   "name": "python",
   "nbconvert_exporter": "python",
   "pygments_lexer": "ipython3",
   "version": "3.11.7"
  },
  "toc-autonumbering": true,
  "vscode": {
   "interpreter": {
    "hash": "47ef90cdf3004d3f859f1fb202523c65c07ba7c22eefd261b181f4744e2d0403"
   }
  }
 },
 "nbformat": 4,
 "nbformat_minor": 4
}
