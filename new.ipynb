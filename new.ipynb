{
 "cells": [
  {
   "cell_type": "code",
   "execution_count": 2,
   "metadata": {},
   "outputs": [
    {
     "name": "stdout",
     "output_type": "stream",
     "text": [
      "Collecting quanteconNote: you may need to restart the kernel to use updated packages.\n",
      "\n",
      "  Using cached quantecon-0.7.2-py3-none-any.whl.metadata (4.9 kB)\n",
      "Requirement already satisfied: numba>=0.49.0 in c:\\users\\krist\\anaconda3\\lib\\site-packages (from quantecon) (0.60.0)\n",
      "Requirement already satisfied: numpy>=1.17.0 in c:\\users\\krist\\anaconda3\\lib\\site-packages (from quantecon) (1.26.4)\n",
      "Requirement already satisfied: requests in c:\\users\\krist\\anaconda3\\lib\\site-packages (from quantecon) (2.32.3)\n",
      "Requirement already satisfied: scipy>=1.5.0 in c:\\users\\krist\\anaconda3\\lib\\site-packages (from quantecon) (1.13.1)\n",
      "Requirement already satisfied: sympy in c:\\users\\krist\\anaconda3\\lib\\site-packages (from quantecon) (1.12)\n",
      "Requirement already satisfied: llvmlite<0.44,>=0.43.0dev0 in c:\\users\\krist\\anaconda3\\lib\\site-packages (from numba>=0.49.0->quantecon) (0.43.0)\n",
      "Requirement already satisfied: charset-normalizer<4,>=2 in c:\\users\\krist\\anaconda3\\lib\\site-packages (from requests->quantecon) (3.3.2)\n",
      "Requirement already satisfied: idna<4,>=2.5 in c:\\users\\krist\\anaconda3\\lib\\site-packages (from requests->quantecon) (3.7)\n",
      "Requirement already satisfied: urllib3<3,>=1.21.1 in c:\\users\\krist\\anaconda3\\lib\\site-packages (from requests->quantecon) (2.2.2)\n",
      "Requirement already satisfied: certifi>=2017.4.17 in c:\\users\\krist\\anaconda3\\lib\\site-packages (from requests->quantecon) (2024.7.4)\n",
      "Requirement already satisfied: mpmath>=0.19 in c:\\users\\krist\\anaconda3\\lib\\site-packages (from sympy->quantecon) (1.3.0)\n",
      "Using cached quantecon-0.7.2-py3-none-any.whl (215 kB)\n",
      "Installing collected packages: quantecon\n",
      "Successfully installed quantecon-0.7.2\n"
     ]
    }
   ],
   "source": [
    "pip install quantecon"
   ]
  },
  {
   "cell_type": "code",
   "execution_count": 3,
   "metadata": {},
   "outputs": [
    {
     "name": "stdout",
     "output_type": "stream",
     "text": [
      "Requirement already satisfied: EconModel in c:\\users\\krist\\anaconda3\\lib\\site-packages (0.15)\n",
      "Note: you may need to restart the kernel to use updated packages.\n"
     ]
    }
   ],
   "source": [
    "pip install EconModel"
   ]
  },
  {
   "cell_type": "code",
   "execution_count": 4,
   "metadata": {},
   "outputs": [
    {
     "name": "stdout",
     "output_type": "stream",
     "text": [
      "Requirement already satisfied: consav in c:\\users\\krist\\anaconda3\\lib\\site-packages (0.11)\n",
      "Note: you may need to restart the kernel to use updated packages.\n"
     ]
    }
   ],
   "source": [
    "pip install consav"
   ]
  }
 ],
 "metadata": {
  "kernelspec": {
   "display_name": "base",
   "language": "python",
   "name": "python3"
  },
  "language_info": {
   "codemirror_mode": {
    "name": "ipython",
    "version": 3
   },
   "file_extension": ".py",
   "mimetype": "text/x-python",
   "name": "python",
   "nbconvert_exporter": "python",
   "pygments_lexer": "ipython3",
   "version": "3.11.7"
  }
 },
 "nbformat": 4,
 "nbformat_minor": 2
}
